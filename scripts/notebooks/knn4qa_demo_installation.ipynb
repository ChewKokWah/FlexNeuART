{
 "cells": [
  {
   "cell_type": "code",
   "execution_count": null,
   "metadata": {},
   "outputs": [],
   "source": [
    "# Required software\n",
    "# Install on Mac using:\n",
    "!brew install c++\n",
    "!brew install thrift\n",
    "!brew install git\n",
    "!brew cask install java\n",
    "!brew install cmake\n",
    "!brew install maven"
   ]
  },
  {
   "cell_type": "code",
   "execution_count": 14,
   "metadata": {},
   "outputs": [
    {
     "name": "stdout",
     "output_type": "stream",
     "text": [
      "fatal: destination path 'nmslib' already exists and is not an empty directory.\n",
      "Already on 'nmslib4a_postdoc'\n",
      "Your branch is up to date with 'origin/nmslib4a_postdoc'.\n",
      "-- Build type: Release\n",
      "-- Header files: /Users/leo/demo_test/nmslib/similarity_search/include/cluster_util.h;/Users/leo/demo_test/nmslib/similarity_search/include/cmd_options.h;/Users/leo/demo_test/nmslib/similarity_search/include/distcomp.h;/Users/leo/demo_test/nmslib/similarity_search/include/distcomp_edist.h;/Users/leo/demo_test/nmslib/similarity_search/include/eval_metrics.h;/Users/leo/demo_test/nmslib/similarity_search/include/eval_results.h;/Users/leo/demo_test/nmslib/similarity_search/include/experimentconf.h;/Users/leo/demo_test/nmslib/similarity_search/include/experiments.h;/Users/leo/demo_test/nmslib/similarity_search/include/factory/init_methods.h;/Users/leo/demo_test/nmslib/similarity_search/include/factory/init_spaces.h;/Users/leo/demo_test/nmslib/similarity_search/include/falconn_heap_mod.h;/Users/leo/demo_test/nmslib/similarity_search/include/flexbuff.h;/Users/leo/demo_test/nmslib/similarity_search/include/floatdiff.h;/Users/leo/demo_test/nmslib/similarity_search/include/global.h;/Users/leo/demo_test/nmslib/similarity_search/include/gold_standard.h;/Users/leo/demo_test/nmslib/similarity_search/include/idtype.h;/Users/leo/demo_test/nmslib/similarity_search/include/incremental_quick_select.h;/Users/leo/demo_test/nmslib/similarity_search/include/index.h;/Users/leo/demo_test/nmslib/similarity_search/include/init.h;/Users/leo/demo_test/nmslib/similarity_search/include/inmem_inv_index.h;/Users/leo/demo_test/nmslib/similarity_search/include/knnquery.h;/Users/leo/demo_test/nmslib/similarity_search/include/knnqueue.h;/Users/leo/demo_test/nmslib/similarity_search/include/logging.h;/Users/leo/demo_test/nmslib/similarity_search/include/memory.h;/Users/leo/demo_test/nmslib/similarity_search/include/meta_analysis.h;/Users/leo/demo_test/nmslib/similarity_search/include/method/bbtree.h;/Users/leo/demo_test/nmslib/similarity_search/include/method/blkmax_inverted_index.h;/Users/leo/demo_test/nmslib/similarity_search/include/method/dummy.h;/Users/leo/demo_test/nmslib/similarity_search/include/method/falconn.h;/Users/leo/demo_test/nmslib/similarity_search/include/method/ghtree.h;/Users/leo/demo_test/nmslib/similarity_search/include/method/hnsw.h;/Users/leo/demo_test/nmslib/similarity_search/include/method/lcstrategy.h;/Users/leo/demo_test/nmslib/similarity_search/include/method/list_clusters.h;/Users/leo/demo_test/nmslib/similarity_search/include/method/lsh.h;/Users/leo/demo_test/nmslib/similarity_search/include/method/lsh_multiprobe.h;/Users/leo/demo_test/nmslib/similarity_search/include/method/lsh_space.h;/Users/leo/demo_test/nmslib/similarity_search/include/method/multi_index.h;/Users/leo/demo_test/nmslib/similarity_search/include/method/multi_vantage_point_tree.h;/Users/leo/demo_test/nmslib/similarity_search/include/method/multi_vantage_point_tree_utils.h;/Users/leo/demo_test/nmslib/similarity_search/include/method/nndes.h;/Users/leo/demo_test/nmslib/similarity_search/include/method/nonmetr_list_clust.h;/Users/leo/demo_test/nmslib/similarity_search/include/method/omedrank.h;/Users/leo/demo_test/nmslib/similarity_search/include/method/perm_bin_vptree.h;/Users/leo/demo_test/nmslib/similarity_search/include/method/perm_index_incr_bin.h;/Users/leo/demo_test/nmslib/similarity_search/include/method/perm_lsh_bin.h;/Users/leo/demo_test/nmslib/similarity_search/include/method/permutation_inverted_index.h;/Users/leo/demo_test/nmslib/similarity_search/include/method/permutation_prefix_index.h;/Users/leo/demo_test/nmslib/similarity_search/include/method/pivot_neighb_common.h;/Users/leo/demo_test/nmslib/similarity_search/include/method/pivot_neighb_invindx.h;/Users/leo/demo_test/nmslib/similarity_search/include/method/proj_vptree.h;/Users/leo/demo_test/nmslib/similarity_search/include/method/projection_index_incremental.h;/Users/leo/demo_test/nmslib/similarity_search/include/method/seqsearch.h;/Users/leo/demo_test/nmslib/similarity_search/include/method/simple_inverted_index.h;/Users/leo/demo_test/nmslib/similarity_search/include/method/small_world_rand.h;/Users/leo/demo_test/nmslib/similarity_search/include/method/spatial_approx_tree.h;/Users/leo/demo_test/nmslib/similarity_search/include/method/vptree.h;/Users/leo/demo_test/nmslib/similarity_search/include/method/vptree_utils.h;/Users/leo/demo_test/nmslib/similarity_search/include/method/wand_inverted_index.h;/Users/leo/demo_test/nmslib/similarity_search/include/methodfactory.h;/Users/leo/demo_test/nmslib/similarity_search/include/my_isnan_isinf.h;/Users/leo/demo_test/nmslib/similarity_search/include/object.h;/Users/leo/demo_test/nmslib/similarity_search/include/params.h;/Users/leo/demo_test/nmslib/similarity_search/include/params_cmdline.h;/Users/leo/demo_test/nmslib/similarity_search/include/params_def.h;/Users/leo/demo_test/nmslib/similarity_search/include/permutation_type.h;/Users/leo/demo_test/nmslib/similarity_search/include/permutation_utils.h;/Users/leo/demo_test/nmslib/similarity_search/include/portable_align.h;/Users/leo/demo_test/nmslib/similarity_search/include/portable_intrinsics.h;/Users/leo/demo_test/nmslib/similarity_search/include/portable_popcount.h;/Users/leo/demo_test/nmslib/similarity_search/include/portable_simd.h;/Users/leo/demo_test/nmslib/similarity_search/include/ported_boost_progress.h;/Users/leo/demo_test/nmslib/similarity_search/include/pow.h;/Users/leo/demo_test/nmslib/similarity_search/include/projection.h;/Users/leo/demo_test/nmslib/similarity_search/include/query.h;/Users/leo/demo_test/nmslib/similarity_search/include/query_creator.h;/Users/leo/demo_test/nmslib/similarity_search/include/randproj_util.h;/Users/leo/demo_test/nmslib/similarity_search/include/rangequery.h;/Users/leo/demo_test/nmslib/similarity_search/include/read_data.h;/Users/leo/demo_test/nmslib/similarity_search/include/report.h;/Users/leo/demo_test/nmslib/similarity_search/include/report_intr_dim.h;/Users/leo/demo_test/nmslib/similarity_search/include/searchoracle.h;/Users/leo/demo_test/nmslib/similarity_search/include/simddebug.h;/Users/leo/demo_test/nmslib/similarity_search/include/sort_arr_bi.h;/Users/leo/demo_test/nmslib/similarity_search/include/space.h;/Users/leo/demo_test/nmslib/similarity_search/include/space/space_ab_diverg.h;/Users/leo/demo_test/nmslib/similarity_search/include/space/space_bit_hamming.h;/Users/leo/demo_test/nmslib/similarity_search/include/space/space_bregman.h;/Users/leo/demo_test/nmslib/similarity_search/include/space/space_dummy.h;/Users/leo/demo_test/nmslib/similarity_search/include/space/space_js.h;/Users/leo/demo_test/nmslib/similarity_search/include/space/space_l2sqr_sift.h;/Users/leo/demo_test/nmslib/similarity_search/include/space/space_leven.h;/Users/leo/demo_test/nmslib/similarity_search/include/space/space_lp.h;/Users/leo/demo_test/nmslib/similarity_search/include/space/space_rank_correl.h;/Users/leo/demo_test/nmslib/similarity_search/include/space/space_renyi_diverg.h;/Users/leo/demo_test/nmslib/similarity_search/include/space/space_scalar.h;/Users/leo/demo_test/nmslib/similarity_search/include/space/space_sparse_bin_common.h;/Users/leo/demo_test/nmslib/similarity_search/include/space/space_sparse_dense_fusion.h;/Users/leo/demo_test/nmslib/similarity_search/include/space/space_sparse_jaccard.h;/Users/leo/demo_test/nmslib/similarity_search/include/space/space_sparse_lp.h;/Users/leo/demo_test/nmslib/similarity_search/include/space/space_sparse_scalar.h;/Users/leo/demo_test/nmslib/similarity_search/include/space/space_sparse_scalar_bin_fast.h;/Users/leo/demo_test/nmslib/similarity_search/include/space/space_sparse_scalar_fast.h;/Users/leo/demo_test/nmslib/similarity_search/include/space/space_sparse_vector.h;/Users/leo/demo_test/nmslib/similarity_search/include/space/space_sparse_vector_inter.h;/Users/leo/demo_test/nmslib/similarity_search/include/space/space_sqfd.h;/Users/leo/demo_test/nmslib/similarity_search/include/space/space_string.h;/Users/leo/demo_test/nmslib/similarity_search/include/space/space_vector.h;/Users/leo/demo_test/nmslib/similarity_search/include/space/space_vector_gen.h;/Users/leo/demo_test/nmslib/similarity_search/include/space/space_word_embed.h;/Users/leo/demo_test/nmslib/similarity_search/include/spacefactory.h;/Users/leo/demo_test/nmslib/similarity_search/include/thread_pool.h;/Users/leo/demo_test/nmslib/similarity_search/include/tune.h;/Users/leo/demo_test/nmslib/similarity_search/include/utils.h;/Users/leo/demo_test/nmslib/similarity_search/include/ztimer.h\n",
      "-- Source files: /Users/leo/demo_test/nmslib/similarity_search/src/cluster_util.cc;/Users/leo/demo_test/nmslib/similarity_search/src/distcomp_bregman.cc;/Users/leo/demo_test/nmslib/similarity_search/src/distcomp_diverg.cc;/Users/leo/demo_test/nmslib/similarity_search/src/distcomp_edist.cc;/Users/leo/demo_test/nmslib/similarity_search/src/distcomp_js.cc;/Users/leo/demo_test/nmslib/similarity_search/src/distcomp_l2sqr_sift.cc;/Users/leo/demo_test/nmslib/similarity_search/src/distcomp_lp.cc;/Users/leo/demo_test/nmslib/similarity_search/src/distcomp_overlap.cc;/Users/leo/demo_test/nmslib/similarity_search/src/distcomp_rankcorr.cc;/Users/leo/demo_test/nmslib/similarity_search/src/distcomp_scalar.cc;/Users/leo/demo_test/nmslib/similarity_search/src/distcomp_sparse_scalar_fast.cc;/Users/leo/demo_test/nmslib/similarity_search/src/experimentconf.cc;/Users/leo/demo_test/nmslib/similarity_search/src/global.cc;/Users/leo/demo_test/nmslib/similarity_search/src/init.cc;/Users/leo/demo_test/nmslib/similarity_search/src/knnquery.cc;/Users/leo/demo_test/nmslib/similarity_search/src/logging.cc;/Users/leo/demo_test/nmslib/similarity_search/src/memory.cc;/Users/leo/demo_test/nmslib/similarity_search/src/method/blkmax_inverted_index.cc;/Users/leo/demo_test/nmslib/similarity_search/src/method/dummy.cc;/Users/leo/demo_test/nmslib/similarity_search/src/method/ghtree.cc;/Users/leo/demo_test/nmslib/similarity_search/src/method/hnsw.cc;/Users/leo/demo_test/nmslib/similarity_search/src/method/hnsw_distfunc_opt.cc;/Users/leo/demo_test/nmslib/similarity_search/src/method/list_clusters.cc;/Users/leo/demo_test/nmslib/similarity_search/src/method/multi_index.cc;/Users/leo/demo_test/nmslib/similarity_search/src/method/multi_vantage_point_tree.cc;/Users/leo/demo_test/nmslib/similarity_search/src/method/nonmetr_list_clust.cc;/Users/leo/demo_test/nmslib/similarity_search/src/method/omedrank.cc;/Users/leo/demo_test/nmslib/similarity_search/src/method/perm_bin_vptree.cc;/Users/leo/demo_test/nmslib/similarity_search/src/method/perm_index_incr_bin.cc;/Users/leo/demo_test/nmslib/similarity_search/src/method/perm_lsh_bin.cc;/Users/leo/demo_test/nmslib/similarity_search/src/method/permutation_inverted_index.cc;/Users/leo/demo_test/nmslib/similarity_search/src/method/permutation_prefix_index.cc;/Users/leo/demo_test/nmslib/similarity_search/src/method/pivot_neighb_invindx.cc;/Users/leo/demo_test/nmslib/similarity_search/src/method/proj_vptree.cc;/Users/leo/demo_test/nmslib/similarity_search/src/method/projection_index_incremental.cc;/Users/leo/demo_test/nmslib/similarity_search/src/method/seqsearch.cc;/Users/leo/demo_test/nmslib/similarity_search/src/method/simple_inverted_index.cc;/Users/leo/demo_test/nmslib/similarity_search/src/method/small_world_rand.cc;/Users/leo/demo_test/nmslib/similarity_search/src/method/spatial_approx_tree.cc;/Users/leo/demo_test/nmslib/similarity_search/src/method/vptree.cc;/Users/leo/demo_test/nmslib/similarity_search/src/method/wand_inverted_index.cc;/Users/leo/demo_test/nmslib/similarity_search/src/params.cc;/Users/leo/demo_test/nmslib/similarity_search/src/params_cmdline.cc;/Users/leo/demo_test/nmslib/similarity_search/src/projection.cc;/Users/leo/demo_test/nmslib/similarity_search/src/query.cc;/Users/leo/demo_test/nmslib/similarity_search/src/randproj_util.cc;/Users/leo/demo_test/nmslib/similarity_search/src/rangequery.cc;/Users/leo/demo_test/nmslib/similarity_search/src/searchoracle.cc;/Users/leo/demo_test/nmslib/similarity_search/src/space.cc;/Users/leo/demo_test/nmslib/similarity_search/src/space/space_ab_diverg.cc;/Users/leo/demo_test/nmslib/similarity_search/src/space/space_bit_hamming.cc;/Users/leo/demo_test/nmslib/similarity_search/src/space/space_bregman.cc;/Users/leo/demo_test/nmslib/similarity_search/src/space/space_dummy.cc;/Users/leo/demo_test/nmslib/similarity_search/src/space/space_js.cc;/Users/leo/demo_test/nmslib/similarity_search/src/space/space_l2sqr_sift.cc;/Users/leo/demo_test/nmslib/similarity_search/src/space/space_lp.cc;/Users/leo/demo_test/nmslib/similarity_search/src/space/space_renyi_diverg.cc;/Users/leo/demo_test/nmslib/similarity_search/src/space/space_scalar.cc;/Users/leo/demo_test/nmslib/similarity_search/src/space/space_sparse_dense_fusion.cc;/Users/leo/demo_test/nmslib/similarity_search/src/space/space_sparse_jaccard.cc;/Users/leo/demo_test/nmslib/similarity_search/src/space/space_sparse_lp.cc;/Users/leo/demo_test/nmslib/similarity_search/src/space/space_sparse_scalar_bin_fast.cc;/Users/leo/demo_test/nmslib/similarity_search/src/space/space_sparse_scalar_fast.cc;/Users/leo/demo_test/nmslib/similarity_search/src/space/space_sparse_vector.cc;/Users/leo/demo_test/nmslib/similarity_search/src/space/space_sparse_vector_inter.cc;/Users/leo/demo_test/nmslib/similarity_search/src/space/space_string.cc;/Users/leo/demo_test/nmslib/similarity_search/src/space/space_vector.cc;/Users/leo/demo_test/nmslib/similarity_search/src/space/space_word_embed.cc;/Users/leo/demo_test/nmslib/similarity_search/src/utils.cc\n",
      "-- Found Threads.\n",
      "-- Compiler: Clang 4.2.1\n",
      "-- Configuring done\n"
     ]
    },
    {
     "name": "stdout",
     "output_type": "stream",
     "text": [
      "-- Generating done\n",
      "-- Build files have been written to: /Users/leo/demo_test/nmslib/similarity_search\n",
      "[ 64%] Built target NonMetricSpaceLib\n",
      "[ 66%] Built target bench_distfunc\n",
      "[ 68%] Built target dummy_app\n",
      "[ 69%] Built target convert_sparse_txt2bin\n",
      "[ 71%] Built target tune_vptree\n",
      "[ 76%] Built target knn_stat\n",
      "[ 76%] Built target test_clust\n",
      "[ 77%] Built target bench_projection\n",
      "[ 79%] Built target report_intr_dim\n",
      "[ 83%] Built target test_integr\n",
      "[ 83%] Built target experiment\n",
      "[100%] Built target bunit\n"
     ]
    }
   ],
   "source": [
    "# Clone and compile main NMSLIB code (note the branch)\n",
    "!git clone git@github.com:nmslib/nmslib.git\n",
    "!cd nmslib ; git checkout nmslib4a_postdoc ;\n",
    "!cd nmslib/similarity_search ; cmake . ; make -j 8"
   ]
  },
  {
   "cell_type": "code",
   "execution_count": 22,
   "metadata": {},
   "outputs": [
    {
     "name": "stdout",
     "output_type": "stream",
     "text": [
      "c++ -I../../similarity_search//include  -I./gen-thrift/ -std=c++11 -O3   -c -o gen-thrift/QueryService.o gen-thrift/QueryService.cpp\n",
      "c++ -I../../similarity_search//include  -I./gen-thrift/ -std=c++11 -O3   -c -o gen-thrift/protocol_constants.o gen-thrift/protocol_constants.cpp\n",
      "c++ -I../../similarity_search//include  -I./gen-thrift/ -std=c++11 -O3   -c -o gen-thrift/protocol_types.o gen-thrift/protocol_types.cpp\n",
      "c++ -I../../similarity_search//include  -I./gen-thrift/ -std=c++11 -O3   -c -o QueryService_server.o QueryService_server.cpp\n",
      "c++ -I../../similarity_search//include  -I./gen-thrift/ -std=c++11 -O3   -c -o QueryClient.o QueryClient.cpp\n",
      "c++ -oquery_client  gen-thrift/QueryService.o gen-thrift/protocol_constants.o gen-thrift/protocol_types.o QueryClient.o -L/usr/local/lib -L../../similarity_search//release -lthrift -lNonMetricSpaceLib -lboost_program_options -pthread #-fopenmp \n",
      "c++ -oquery_server  gen-thrift/QueryService.o gen-thrift/protocol_constants.o gen-thrift/protocol_types.o QueryService_server.o -L/usr/local/lib -L../../similarity_search//release -lthrift -lNonMetricSpaceLib -lboost_program_options -pthread #-fopenmp \n"
     ]
    }
   ],
   "source": [
    "# Compile NMSLIB query server\n",
    "!cd nmslib/query_server/cpp_client_server ; make -j 4"
   ]
  },
  {
   "cell_type": "code",
   "execution_count": 21,
   "metadata": {},
   "outputs": [
    {
     "name": "stdout",
     "output_type": "stream",
     "text": [
      "fatal: destination path 'knn4qa' already exists and is not an empty directory.\n",
      "Already on 'postdoc'\n",
      "Your branch is up to date with 'origin/postdoc'.\n",
      "[\u001b[1;34mINFO\u001b[m] Scanning for projects...\n",
      "[\u001b[1;34mINFO\u001b[m] \n",
      "[\u001b[1;34mINFO\u001b[m] \u001b[1m----------------------< \u001b[0;36medu.cmu.lti.oaqa:knn4qa\u001b[0;1m >-----------------------\u001b[m\n",
      "[\u001b[1;34mINFO\u001b[m] \u001b[1mBuilding Exploring if k-NN search can be useful for non-factoid QA. 2.0-SNAPSHOT\u001b[m\n",
      "[\u001b[1;34mINFO\u001b[m] \u001b[1m--------------------------------[ jar ]---------------------------------\u001b[m\n",
      "[\u001b[1;33mWARNING\u001b[m] The POM for umass:RankLib:jar:2.7 is missing, no dependency information available\n",
      "[\u001b[1;34mINFO\u001b[m] \n",
      "[\u001b[1;34mINFO\u001b[m] \u001b[1m--- \u001b[0;32mmaven-resources-plugin:2.6:resources\u001b[m \u001b[1m(default-resources)\u001b[m @ \u001b[36mknn4qa\u001b[0;1m ---\u001b[m\n",
      "[\u001b[1;34mINFO\u001b[m] Using 'UTF-8' encoding to copy filtered resources.\n",
      "[\u001b[1;34mINFO\u001b[m] Copying 57 resources\n",
      "[\u001b[1;34mINFO\u001b[m] \n",
      "[\u001b[1;34mINFO\u001b[m] \u001b[1m--- \u001b[0;32mmaven-compiler-plugin:2.3.2:compile\u001b[m \u001b[1m(default-compile)\u001b[m @ \u001b[36mknn4qa\u001b[0;1m ---\u001b[m\n",
      "[\u001b[1;34mINFO\u001b[m] Nothing to compile - all classes are up to date\n",
      "[\u001b[1;34mINFO\u001b[m] \u001b[1m------------------------------------------------------------------------\u001b[m\n",
      "[\u001b[1;34mINFO\u001b[m] \u001b[1;32mBUILD SUCCESS\u001b[m\n",
      "[\u001b[1;34mINFO\u001b[m] \u001b[1m------------------------------------------------------------------------\u001b[m\n",
      "[\u001b[1;34mINFO\u001b[m] Total time: 2.496 s\n",
      "[\u001b[1;34mINFO\u001b[m] Finished at: 2019-04-11T00:12:45-04:00\n",
      "[\u001b[1;34mINFO\u001b[m] \u001b[1m------------------------------------------------------------------------\u001b[m\n"
     ]
    }
   ],
   "source": [
    "# Clone and compile knn4qa\n",
    "!git clone https://github.com/oaqa/knn4qa\n",
    "!cd knn4qa ; git checkout postdoc ; mvn compile    "
   ]
  },
  {
   "cell_type": "code",
   "execution_count": null,
   "metadata": {},
   "outputs": [],
   "source": []
  }
 ],
 "metadata": {
  "kernelspec": {
   "display_name": "Python 3",
   "language": "python",
   "name": "python3"
  },
  "language_info": {
   "codemirror_mode": {
    "name": "ipython",
    "version": 3
   },
   "file_extension": ".py",
   "mimetype": "text/x-python",
   "name": "python",
   "nbconvert_exporter": "python",
   "pygments_lexer": "ipython3",
   "version": "3.6.5"
  }
 },
 "nbformat": 4,
 "nbformat_minor": 2
}
