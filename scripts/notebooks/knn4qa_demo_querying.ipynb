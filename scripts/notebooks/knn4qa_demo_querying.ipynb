{
 "cells": [
  {
   "cell_type": "code",
   "execution_count": 7,
   "metadata": {},
   "outputs": [
    {
     "name": "stdout",
     "output_type": "stream",
     "text": [
      "01:01:56.085 [Thread-1] INFO  edu.cmu.lti.oaqa.knn4qa.apps.BaseQueryApp - Thread id=0 finished!\r\n",
      "01:01:56.093 [edu.cmu.lti.oaqa.knn4qa.apps.QueryAppMultThread.main()] INFO  edu.cmu.lti.oaqa.knn4qa.apps.BaseQueryApp - Query time (ms):             mean=3.814542 std=2.189603\r\n",
      "01:01:56.093 [edu.cmu.lti.oaqa.knn4qa.apps.QueryAppMultThread.main()] INFO  edu.cmu.lti.oaqa.knn4qa.apps.BaseQueryApp - Number of entries found:     mean=100.000000 std=0.000000\r\n",
      "01:01:56.093 [edu.cmu.lti.oaqa.knn4qa.apps.QueryAppMultThread.main()] INFO  edu.cmu.lti.oaqa.knn4qa.apps.BaseQueryApp - Finished successfully!\r\n",
      "[INFO] ------------------------------------------------------------------------\r\n",
      "[INFO] BUILD SUCCESS\r\n",
      "[INFO] ------------------------------------------------------------------------\r\n",
      "[INFO] Total time: 11.340 s\r\n",
      "[INFO] Finished at: 2019-04-11T01:01:56-04:00\r\n",
      "[INFO] ------------------------------------------------------------------------\r\n"
     ]
    }
   ],
   "source": [
    "# Query NMSLIB index 100 candidates BM25 + averaged word embeddings\n",
    "!cd knn4qa ; scripts/query/run_query.sh \\\n",
    "    -cand_prov  nmslib  \\\n",
    "    -q output/squad/dev1/SolrQuestionFile.txt \\\n",
    "    -o nmslib_results -n 100 -thread_qty 4 \\\n",
    "    -extr_type_nmslib misc/cosine_fusion_dim=100_squad_emb_unlemm_epoch1.json  \\\n",
    "    -memindex_dir memfwdindex/squad/  -knn_interleave -u localhost:8080 \\\n",
    "    -embed_dir WordEmbeddings/squad/ 2>&1 | tail -10"
   ]
  },
  {
   "cell_type": "code",
   "execution_count": 11,
   "metadata": {},
   "outputs": [
    {
     "name": "stdout",
     "output_type": "stream",
     "text": [
      "01:04:46.415 [edu.cmu.lti.oaqa.knn4qa.apps.QueryAppMultThread.main()] INFO  edu.cmu.lti.oaqa.knn4qa.apps.BaseQueryApp - Query time (ms):             mean=1.468137 std=6.151324\r\n",
      "01:04:46.415 [edu.cmu.lti.oaqa.knn4qa.apps.QueryAppMultThread.main()] INFO  edu.cmu.lti.oaqa.knn4qa.apps.BaseQueryApp - Number of entries found:     mean=2051.796569 std=1568.570481\r\n",
      "01:04:46.417 [edu.cmu.lti.oaqa.knn4qa.apps.QueryAppMultThread.main()] INFO  edu.cmu.lti.oaqa.knn4qa.apps.BaseQueryApp - Final  reranking time (ms): mean=31.752042 std=111.654527\r\n",
      "01:04:46.417 [edu.cmu.lti.oaqa.knn4qa.apps.QueryAppMultThread.main()] INFO  edu.cmu.lti.oaqa.knn4qa.apps.BaseQueryApp - Finished successfully!\r\n",
      "[INFO] ------------------------------------------------------------------------\r\n",
      "[INFO] BUILD SUCCESS\r\n",
      "[INFO] ------------------------------------------------------------------------\r\n",
      "[INFO] Total time: 26.629 s\r\n",
      "[INFO] Finished at: 2019-04-11T01:04:46-04:00\r\n",
      "[INFO] ------------------------------------------------------------------------\r\n"
     ]
    }
   ],
   "source": [
    "# Query Lucene index 100 candidates BM25\n",
    "!cd knn4qa ; scripts/query/run_query.sh -cand_prov lucene -memindex_dir memfwdindex/squad/ \\\n",
    "    -q output/squad/dev1/SolrQuestionFile.txt -o lucene_results \\\n",
    "    -u lucene_index/squad/ \\\n",
    "    -n 100 --thread_qty 4 \\\n",
    "    -extr_type_final  misc/bm25=text.json \\\n",
    "    -model_final misc/oneFeat.model 2>&1|tail -10"
   ]
  },
  {
   "cell_type": "code",
   "execution_count": 14,
   "metadata": {},
   "outputs": [
    {
     "name": "stdout",
     "output_type": "stream",
     "text": [
      "runid,topic,ndcg@20,err@20\n",
      "fake_run,amean,0.87632,0.80251\n"
     ]
    }
   ],
   "source": [
    "# Evaluation of NMSLIB output\n",
    "# Evaluation of NMSLIB output\n",
    "!cd knn4qa ; scripts/exper/gdeval.pl  output/squad/dev1/qrels_all_graded.txt nmslib_results_100 |head -1\n",
    "!cd knn4qa ; scripts/exper/gdeval.pl  output/squad/dev1/qrels_all_graded.txt nmslib_results_100 |tail -1\n"
   ]
  },
  {
   "cell_type": "code",
   "execution_count": 15,
   "metadata": {},
   "outputs": [
    {
     "name": "stdout",
     "output_type": "stream",
     "text": [
      "runid,topic,ndcg@20,err@20\n",
      "fake_run,amean,0.91481,0.84219\n"
     ]
    }
   ],
   "source": [
    "# Evaluation of Lucene output\n",
    "!cd knn4qa ; scripts/exper/gdeval.pl  output/squad/dev1/qrels_all_graded.txt lucene_results_100 |head -1\n",
    "!cd knn4qa ; scripts/exper/gdeval.pl  output/squad/dev1/qrels_all_graded.txt lucene_results_100 |tail -1"
   ]
  }
 ],
 "metadata": {
  "kernelspec": {
   "display_name": "Python 3",
   "language": "python",
   "name": "python3"
  },
  "language_info": {
   "codemirror_mode": {
    "name": "ipython",
    "version": 3
   },
   "file_extension": ".py",
   "mimetype": "text/x-python",
   "name": "python",
   "nbconvert_exporter": "python",
   "pygments_lexer": "ipython3",
   "version": "3.6.5"
  }
 },
 "nbformat": 4,
 "nbformat_minor": 2
}
