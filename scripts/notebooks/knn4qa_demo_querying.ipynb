{
 "cells": [
  {
   "cell_type": "code",
   "execution_count": 1,
   "metadata": {},
   "outputs": [
    {
     "name": "stdout",
     "output_type": "stream",
     "text": [
      "SLF4J: See http://www.slf4j.org/codes.html#StaticLoggerBinder for further details.\r\n",
      "Finished loading context from dir: collections/squad/forward_index/text_unlemm.lucene\r\n",
      "Finished loading context from dir: collections/squad/forward_index/text.lucene\r\n",
      "[INFO] ------------------------------------------------------------------------\r\n",
      "[INFO] BUILD SUCCESS\r\n",
      "[INFO] ------------------------------------------------------------------------\r\n",
      "[INFO] Total time: 9.033 s\r\n",
      "[INFO] Finished at: 2019-07-12T03:04:50-04:00\r\n",
      "[INFO] ------------------------------------------------------------------------\r\n",
      "0\r\n"
     ]
    }
   ],
   "source": [
    "# Query NMSLIB index 100 candidates BM25 + averaged word embeddings\n",
    "!cd ~/experiments/knn4qa ; target/appassembler/bin/QueryAppMultThread \\\n",
    "    -cand_prov  nmslib  \\\n",
    "    -q collections/squad/input_data/dev1/QuestionFields.jsonl \\\n",
    "    -o nmslib_results -n 100 -thread_qty 4 \\\n",
    "    -extr_type_nmslib collections/squad/misc/cosine_fusion_dim=100_squad_emb_unlemm_epoch1.json  \\\n",
    "    -fwd_index_dir collections/squad/forward_index  -knn_interleave -u localhost:8080 \\\n",
    "    -embed_dir collections/squad/embeddings 2>&1 | tail -10"
   ]
  },
  {
   "cell_type": "code",
   "execution_count": 2,
   "metadata": {},
   "outputs": [
    {
     "name": "stdout",
     "output_type": "stream",
     "text": [
      "SLF4J: See http://www.slf4j.org/codes.html#StaticLoggerBinder for further details.\r\n",
      "Model:\t\tCoordinate Ascent\r\n",
      "Finished loading context from dir: collections/squad/forward_index/text.lucene\r\n",
      "[INFO] ------------------------------------------------------------------------\r\n",
      "[INFO] BUILD SUCCESS\r\n",
      "[INFO] ------------------------------------------------------------------------\r\n",
      "[INFO] Total time: 14.338 s\r\n",
      "[INFO] Finished at: 2019-07-12T03:05:06-04:00\r\n",
      "[INFO] ------------------------------------------------------------------------\r\n",
      "0\r\n"
     ]
    }
   ],
   "source": [
    "# Query Lucene index 100 candidates BM25\n",
    "!cd ~/experiments/knn4qa ; target/appassembler/bin/QueryAppMultThread -cand_prov lucene \\\n",
    "    -fwd_index_dir collections/squad/forward_index \\\n",
    "    -q collections/squad/input_data/dev1/QuestionFields.jsonl -o lucene_results \\\n",
    "    -u collections/squad/lucene_index \\\n",
    "    -n 100 --thread_qty 4 \\\n",
    "    -extr_type_final  collections/squad/misc/bm25=text.json \\\n",
    "    -model_final collections/squad/misc/oneFeat.model 2>&1|tail -10"
   ]
  },
  {
   "cell_type": "code",
   "execution_count": 3,
   "metadata": {},
   "outputs": [
    {
     "name": "stdout",
     "output_type": "stream",
     "text": [
      "Use of uninitialized value $\\ in concatenation (.) or string at scripts/exper/gdeval.pl line 30.\n",
      "scripts/exper/gdeval.pl: cannot open \"collections/squad/input_data/dev1/qrels.txtt\": !n at scripts/exper/gdeval.pl line 30.\n",
      "fake_run,amean,0.87336,0.80006\n"
     ]
    }
   ],
   "source": [
    "# Evaluation of NMSLIB output\n",
    "# Evaluation of NMSLIB output\n",
    "!cd ~/experiments/knn4qa ; scripts/exper/gdeval.pl  collections/squad/input_data/dev1/qrels.txtt nmslib_results_100 |head -1\n",
    "!cd ~/experiments/knn4qa ; scripts/exper/gdeval.pl  collections/squad/input_data/dev1/qrels.txt nmslib_results_100 |tail -1\n"
   ]
  },
  {
   "cell_type": "code",
   "execution_count": 4,
   "metadata": {},
   "outputs": [
    {
     "name": "stdout",
     "output_type": "stream",
     "text": [
      "runid,topic,ndcg@20,err@20\n",
      "fake_run,amean,0.91481,0.84219\n"
     ]
    }
   ],
   "source": [
    "# Evaluation of Lucene output\n",
    "!cd ~/experiments/knn4qa ; scripts/exper/gdeval.pl  collections/squad/input_data/dev1/qrels.txt lucene_results_100 |head -1\n",
    "!cd ~/experiments/knn4qa ; scripts/exper/gdeval.pl  collections/squad/input_data/dev1/qrels.txt lucene_results_100 |tail -1"
   ]
  },
  {
   "cell_type": "code",
   "execution_count": null,
   "metadata": {},
   "outputs": [],
   "source": []
  }
 ],
 "metadata": {
  "kernelspec": {
   "display_name": "Python 3",
   "language": "python",
   "name": "python3"
  },
  "language_info": {
   "codemirror_mode": {
    "name": "ipython",
    "version": 3
   },
   "file_extension": ".py",
   "mimetype": "text/x-python",
   "name": "python",
   "nbconvert_exporter": "python",
   "pygments_lexer": "ipython3",
   "version": "3.6.5"
  }
 },
 "nbformat": 4,
 "nbformat_minor": 2
}
