{
 "cells": [
  {
   "cell_type": "code",
   "execution_count": null,
   "metadata": {},
   "outputs": [],
   "source": [
    "# Downloading preprocessed data, embeddings, models, and configs\n",
    "!wget http://boytsov.info/datasets/knn4qa_demo2019-04-10.tar.bz2 "
   ]
  },
  {
   "cell_type": "code",
   "execution_count": null,
   "metadata": {},
   "outputs": [],
   "source": [
    "# Unpack the data \n",
    "!cd knn4qa ; tar jxvf ../knn4qa_demo2019-04-10.tar.bz2 "
   ]
  },
  {
   "cell_type": "code",
   "execution_count": null,
   "metadata": {},
   "outputs": [],
   "source": [
    "# Create Lucene index\n",
    "!cd knn4qa ; scripts/index/create_lucene_index.sh squad"
   ]
  },
  {
   "cell_type": "code",
   "execution_count": null,
   "metadata": {},
   "outputs": [],
   "source": [
    "# Create forward index\n",
    "# First zero means bag-of-words only\n",
    "# Second zero means we create a binary on-disk version of the index (slower to re-rank)\n",
    "!cd knn4qa ; scripts/index/create_inmemfwd_index.sh squad 0 0"
   ]
  },
  {
   "cell_type": "code",
   "execution_count": null,
   "metadata": {},
   "outputs": [],
   "source": [
    "# Export index to NMSLIB\n",
    "!mkdir knn4qa/nmslib/squad\n",
    "!cd knn4qa ; scripts/data/run_export_to_nmslib_sparse.sh \\\n",
    "-extr_json misc/cosine_fusion_dim=100_squad_emb_unlemm_epoch1.json \\\n",
    "-model_file  misc/out_squad_train_20.model  \\\n",
    "-memindex_dir memfwdindex/squad/ \\\n",
    "-embed_dir WordEmbeddings/squad/ \\\n",
    "-out_file nmslib/squad/cosine_fusion_dim=100_squad_emb_unlemm_epoch1.json_sparse.bin\n"
   ]
  },
  {
   "cell_type": "code",
   "execution_count": null,
   "metadata": {},
   "outputs": [],
   "source": [
    "# Finally starting the query server on port 8080 and creating the index using HNSW\n",
    "!cd nmslib/query_server/cpp_client_server ; \\\n",
    "    ./query_server -i ../../../knn4qa/nmslib/squad/cosine_fusion_dim=100_squad_emb_unlemm_epoch1.json_sparse.bin \\\n",
    "    -s cosinesimil_sparse_bin_fast -m hnsw -c M=20,efConstruction=200 -t ef=200 -p 8080 "
   ]
  },
  {
   "cell_type": "code",
   "execution_count": null,
   "metadata": {},
   "outputs": [],
   "source": []
  }
 ],
 "metadata": {
  "kernelspec": {
   "display_name": "Python 3",
   "language": "python",
   "name": "python3"
  },
  "language_info": {
   "codemirror_mode": {
    "name": "ipython",
    "version": 3
   },
   "file_extension": ".py",
   "mimetype": "text/x-python",
   "name": "python",
   "nbconvert_exporter": "python",
   "pygments_lexer": "ipython3",
   "version": "3.6.5"
  }
 },
 "nbformat": 4,
 "nbformat_minor": 2
}
